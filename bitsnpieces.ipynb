{
 "cells": [
  {
   "cell_type": "code",
   "execution_count": 1,
   "id": "sublime-collapse",
   "metadata": {},
   "outputs": [],
   "source": [
    "%matplotlib inline\n",
    "import numpy as np\n",
    "import matplotlib.pyplot as plt\n",
    "\n",
    "import tensorflow as tf"
   ]
  },
  {
   "cell_type": "markdown",
   "id": "moderate-austria",
   "metadata": {},
   "source": [
    "### load ellipses"
   ]
  },
  {
   "cell_type": "code",
   "execution_count": 2,
   "id": "increased-diana",
   "metadata": {},
   "outputs": [],
   "source": [
    "def load_ellipses():\n",
    "    dataset = np.load('data/dsprites_ndarray_co1sh3sc6or40x32y32_64x64.npz', encoding = 'latin1')\n",
    "    # ['metadata', 'imgs', 'latents_classes', 'latents_values']\n",
    "\n",
    "    lat_vals = dataset['latents_values']\n",
    "    #Color: white\n",
    "    #Shape: square, ellipse, heart\n",
    "    #Scale: 6 values linearly spaced in [0.5, 1]\n",
    "    #Orientation: 40 values in [0, 2 pi]\n",
    "    #Position X: 32 values in [0, 1]\n",
    "    #Position Y: 32 values in [0, 1]\n",
    "    \n",
    "    elipses_idxs = np.where(lat_vals[:,1] == 2)[0] # \"== 2\" - ellipses\n",
    "    elipses_imgs = dataset['imgs'][elipses_idxs]\n",
    "    elipses_lat_vals = lat_vals[elipses_idxs]\n",
    "    \n",
    "    elipses_imgs = elipses_imgs.reshape(elipses_imgs.shape[0], -1)\n",
    "    \n",
    "    return elipses_imgs, elipses_lat_vals"
   ]
  },
  {
   "cell_type": "code",
   "execution_count": 3,
   "id": "circular-authentication",
   "metadata": {},
   "outputs": [],
   "source": [
    "ellipses_imgs, ellipses_lat_vals = load_ellipses()"
   ]
  },
  {
   "cell_type": "code",
   "execution_count": 4,
   "id": "attempted-provincial",
   "metadata": {},
   "outputs": [],
   "source": [
    "#plt.imshow(ellipses_imgs[np.random.choice(range(ellipses_imgs.shape[0]))])"
   ]
  },
  {
   "cell_type": "markdown",
   "id": "intended-capital",
   "metadata": {},
   "source": [
    "### create model"
   ]
  },
  {
   "cell_type": "code",
   "execution_count": 5,
   "id": "foster-desire",
   "metadata": {},
   "outputs": [],
   "source": [
    "from absl import app as absl_app\n",
    "from absl import flags as absl_flags\n",
    "\n",
    "absl_flags.DEFINE_integer(\"epoch_size\", 2000, \"epoch size\")\n",
    "absl_flags.DEFINE_integer(\"batch_size\", 64, \"batch size\")\n",
    "absl_flags.DEFINE_float(\"gamma\", 100.0, \"gamma param for latent loss\")\n",
    "absl_flags.DEFINE_float(\"capacity_limit\", 20.0, \"encoding capacity limit param for latent loss\")\n",
    "absl_flags.DEFINE_integer(\"capacity_change_duration\", 100000, \"encoding capacity change duration\")\n",
    "absl_flags.DEFINE_float(\"learning_rate\", 5e-4, \"learning rate\")\n",
    "absl_flags.DEFINE_string(\"checkpoint_dir\", \"checkpoints\", \"checkpoint directory\")\n",
    "absl_flags.DEFINE_string(\"log_file\", \"./log\", \"log file directory\")\n",
    "absl_flags.DEFINE_boolean(\"training\", True, \"training or not\")\n",
    "\n",
    "flags = absl_flags.FLAGS"
   ]
  },
  {
   "cell_type": "code",
   "execution_count": 6,
   "id": "concrete-explosion",
   "metadata": {},
   "outputs": [],
   "source": [
    "_ = flags([\"dummy\"]) # jupyter notebook hack"
   ]
  },
  {
   "cell_type": "code",
   "execution_count": 7,
   "id": "cordless-saturn",
   "metadata": {
    "tags": []
   },
   "outputs": [
    {
     "name": "stdout",
     "output_type": "stream",
     "text": [
      "WARNING:tensorflow:From C:\\Users\\alexa\\Documents\\dvp\\miyosuda-disentangled_vae\\model.py:173: The name tf.placeholder is deprecated. Please use tf.compat.v1.placeholder instead.\n",
      "\n",
      "WARNING:tensorflow:From C:\\Users\\alexa\\Documents\\dvp\\miyosuda-disentangled_vae\\model.py:175: The name tf.variable_scope is deprecated. Please use tf.compat.v1.variable_scope instead.\n",
      "\n",
      "WARNING:tensorflow:From C:\\Users\\alexa\\Documents\\dvp\\miyosuda-disentangled_vae\\model.py:59: The name tf.get_variable is deprecated. Please use tf.compat.v1.get_variable instead.\n",
      "\n",
      "WARNING:tensorflow:From C:\\Users\\alexa\\Documents\\dvp\\miyosuda-disentangled_vae\\model.py:21: The name tf.random_uniform is deprecated. Please use tf.random.uniform instead.\n",
      "\n",
      "WARNING:tensorflow:From C:\\Users\\alexa\\Documents\\dvp\\miyosuda-disentangled_vae\\model.py:116: The name tf.random_normal is deprecated. Please use tf.random.normal instead.\n",
      "\n",
      "WARNING:tensorflow:From c:\\users\\alexa\\anaconda3\\envs\\autoenc1\\lib\\site-packages\\tensorflow_core\\python\\ops\\nn_impl.py:183: where (from tensorflow.python.ops.array_ops) is deprecated and will be removed in a future version.\n",
      "Instructions for updating:\n",
      "Use tf.where in 2.0, which has the same broadcast rule as np.where\n",
      "WARNING:tensorflow:From C:\\Users\\alexa\\Documents\\dvp\\miyosuda-disentangled_vae\\model.py:204: The name tf.summary.scalar is deprecated. Please use tf.compat.v1.summary.scalar instead.\n",
      "\n",
      "WARNING:tensorflow:From C:\\Users\\alexa\\Documents\\dvp\\miyosuda-disentangled_vae\\model.py:206: The name tf.summary.merge is deprecated. Please use tf.compat.v1.summary.merge instead.\n",
      "\n",
      "WARNING:tensorflow:From C:\\Users\\alexa\\Documents\\dvp\\miyosuda-disentangled_vae\\model.py:208: The name tf.train.AdamOptimizer is deprecated. Please use tf.compat.v1.train.AdamOptimizer instead.\n",
      "\n"
     ]
    }
   ],
   "source": [
    "from model import VAE\n",
    "\n",
    "sess = tf.Session()    \n",
    "model = VAE(gamma=flags.gamma,\n",
    "    capacity_limit=flags.capacity_limit,\n",
    "    capacity_change_duration=flags.capacity_change_duration,\n",
    "    learning_rate=flags.learning_rate)\n",
    "\n",
    "sess.run(tf.global_variables_initializer())"
   ]
  },
  {
   "cell_type": "code",
   "execution_count": 16,
   "id": "imperial-atlas",
   "metadata": {},
   "outputs": [
    {
     "name": "stdout",
     "output_type": "stream",
     "text": [
      "245760 images, 3840 batches 64 images each, and 0 images in the last batch\n"
     ]
    }
   ],
   "source": [
    "n_images = ellipses_imgs.shape[0]\n",
    "n_batches = n_images // flags.batch_size\n",
    "last_batch_size = n_images - n_batches * flags.batch_size\n",
    "shuffled_img_indices = list(range(n_images))\n",
    "\n",
    "print('%d images, %d batches %d images each, and %d images left'\n",
    "      % (n_images, n_batches, flags.batch_size, last_batch_size))\n",
    "assert(last_batch_size == 0)\n",
    "\n",
    "for epoch in range(flags.epoch_size):\n",
    "    print('epoch %d of %d (%d batches %d images each)' % (epoch, flags.epoch_size, n_batches, flags.batch_size))\n",
    "    \n",
    "    # reshuffle image indices each epoch\n",
    "    np.random.shuffle(shuffled_img_indices)\n",
    "    \n",
    "    step = 0\n",
    "    for i in range(n_batches):\n",
    "        # Generate image batch\n",
    "        batch_indices = shuffled_img_indices[flags.batch_size*i : flags.batch_size*(i+1)]\n",
    "        batch_imgs = ellipses_imgs[batch_indices]\n",
    "\n",
    "        # Fit training using batch data\n",
    "        reconstr_loss, latent_loss, summary_str = model.partial_fit(sess, batch_imgs, step)\n",
    "        #summary_writer.add_summary(summary_str, step)\n",
    "\n",
    "        if step % 100 == 0:\n",
    "            print('.', end='')\n",
    "        step += 1\n",
    "\n",
    "    print(' done')\n"
   ]
  },
  {
   "cell_type": "code",
   "execution_count": null,
   "id": "working-czech",
   "metadata": {},
   "outputs": [],
   "source": []
  }
 ],
 "metadata": {
  "kernelspec": {
   "display_name": "Python 3",
   "language": "python",
   "name": "python3"
  },
  "language_info": {
   "codemirror_mode": {
    "name": "ipython",
    "version": 3
   },
   "file_extension": ".py",
   "mimetype": "text/x-python",
   "name": "python",
   "nbconvert_exporter": "python",
   "pygments_lexer": "ipython3",
   "version": "3.6.12"
  }
 },
 "nbformat": 4,
 "nbformat_minor": 5
}
